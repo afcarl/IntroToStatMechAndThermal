{
 "cells": [
  {
   "cell_type": "markdown",
   "metadata": {},
   "source": [
    "Now that you've worked through the Python examples, you have some idea of how to save things as files and run them.\n",
    "\n",
    "We'll work through Schroeder's 2D Ising model today in class. You have most of the tools. Three things missing:\n",
    "\n",
    "1) range vs. xrange: We use range to make a list of numbers, and we then loop through that with a for loop. In this code, we'll make a list of a *lot* of numbers (N**2 or bigger, for N == 1000). In those cases, you need to use xrange. It's exactly the same as range except that it doesn't burn up the memory to make the list all at once. Making the lists involved here can easily burn up gigs of memory.\n",
    "\n",
    "2) plotting. Plotting is fairly easy, but you have enough on your plate with learning Python right now. So, I've written the colorsquare routine for you. The meat is the \"pylab.imshow(s,interpolation='nearest',cmap=cm.Greys_r)\" line, which looks like what we used before. The cmap argument tells it to use a specific color map to make everything come out in black and white. The rest of the code makes it update the figure nicely and keeps it from doing so too often in big simulations.\n",
    "\n",
    "2) The raw_input line at the very end tells python to ask for use input. This keeps it from closing the plot window."
   ]
  },
  {
   "cell_type": "code",
   "execution_count": 22,
   "metadata": {
    "collapsed": true
   },
   "outputs": [],
   "source": [
    "import numpy as np\n",
    "import pylab\n",
    "from matplotlib import pylab as plt\n",
    "from numpy.random import random #import only one function from somewhere\n",
    "from numpy.random import randint\n",
    "import scipy\n",
    "from time import sleep"
   ]
  },
  {
   "cell_type": "code",
   "execution_count": 2,
   "metadata": {
    "collapsed": true
   },
   "outputs": [],
   "source": [
    "size = 10 # lattice length\n",
    "T = 2.5 # in units of epsilon/k\n"
   ]
  },
  {
   "cell_type": "code",
   "execution_count": 8,
   "metadata": {
    "collapsed": true
   },
   "outputs": [],
   "source": [
    "import matplotlib.cm as cm\n"
   ]
  },
  {
   "cell_type": "code",
   "execution_count": 17,
   "metadata": {
    "collapsed": true
   },
   "outputs": [],
   "source": [
    "def initialize():\n",
    "    \"\"\"\n",
    "    Initialize a random array where our spins are all up or down.\n",
    "    \"\"\"\n",
    "    myarray = random([size,size]) # initializes with random numbers from 0 to 1.\n",
    "    myarray[myarray<0.5] = -1\n",
    "    myarray[myarray>=0.5] = 1\n",
    "\n",
    "    fig = pylab.figure()\n",
    "    ax = ax = fig.add_subplot(111)    \n",
    "    \n",
    "    colorsquare(myarray,fig=fig)\n",
    "    \n",
    "    return myarray,fig,ax\n"
   ]
  },
  {
   "cell_type": "code",
   "execution_count": 18,
   "metadata": {
    "collapsed": true
   },
   "outputs": [],
   "source": [
    "def deltaU(i,j):\n",
    "    \"\"\"\n",
    "    Compute delta U of flipping a given dipole at i,j\n",
    "    Note periodic boundary conditions.\n",
    "    \"\"\"\n",
    "    if i == size - 1: above = s[0,j]\n",
    "    else:             above = s[i+1,j]\n",
    "\n",
    "    if i == 0:        below = s[-1,j] # s[size,j]\n",
    "    else:             below = s[i-1,j]\n",
    "\n",
    "    if j == size - 1: right = s[i,0]\n",
    "    else:             right = s[i,j+1]\n",
    "\n",
    "    if j == 0:        left = s[i,-1]\n",
    "    else:             left = s[i,j-1]\n",
    "\n",
    "    return 2*s[i,j]*(above+below+left+right)"
   ]
  },
  {
   "cell_type": "code",
   "execution_count": 19,
   "metadata": {
    "collapsed": true
   },
   "outputs": [],
   "source": [
    "colorcounter = 0\n",
    "def colorsquare(s,showevery=None,*,fig):\n",
    "    global colorcounter\n",
    "    delay = 0.0\n",
    "    if showevery is None:\n",
    "        if size <= 10:\n",
    "            showevery = 1\n",
    "            delay = 5\n",
    "        elif size <= 100:\n",
    "            showevery = int(size*size/2)\n",
    "        else:\n",
    "            showevery = size*size\n",
    "    if divmod(colorcounter,showevery)[1] == 0:\n",
    "        fig.clear()\n",
    "        pylab.imshow(s,interpolation='nearest',cmap=cm.Greys_r)\n",
    "        fig.canvas.draw()\n",
    "        #sleep(delay)\n",
    "        pylab.draw()\n",
    "    colorcounter = colorcounter + 1\n"
   ]
  },
  {
   "cell_type": "code",
   "execution_count": 21,
   "metadata": {
    "collapsed": false
   },
   "outputs": [
    {
     "name": "stdout",
     "output_type": "stream",
     "text": [
      "numtrials 10000\n"
     ]
    },
    {
     "ename": "NameError",
     "evalue": "name 'plt' is not defined",
     "output_type": "error",
     "traceback": [
      "\u001b[0;31m---------------------------------------------------------------------------\u001b[0m",
      "\u001b[0;31mNameError\u001b[0m                                 Traceback (most recent call last)",
      "\u001b[0;32m<ipython-input-21-30dbe0c2341c>\u001b[0m in \u001b[0;36m<module>\u001b[0;34m()\u001b[0m\n\u001b[1;32m      3\u001b[0m \u001b[0mnumtrials\u001b[0m \u001b[0;34m=\u001b[0m \u001b[0;36m100\u001b[0m\u001b[0;34m*\u001b[0m\u001b[0msize\u001b[0m\u001b[0;34m**\u001b[0m\u001b[0;36m2\u001b[0m\u001b[0;34m\u001b[0m\u001b[0m\n\u001b[1;32m      4\u001b[0m \u001b[0mprint\u001b[0m \u001b[0;34m(\u001b[0m\u001b[0;34m\"numtrials\"\u001b[0m\u001b[0;34m,\u001b[0m\u001b[0mnumtrials\u001b[0m\u001b[0;34m)\u001b[0m\u001b[0;34m\u001b[0m\u001b[0m\n\u001b[0;32m----> 5\u001b[0;31m \u001b[0mplt\u001b[0m\u001b[0;34m.\u001b[0m\u001b[0mshow\u001b[0m\u001b[0;34m(\u001b[0m\u001b[0;34m)\u001b[0m\u001b[0;34m\u001b[0m\u001b[0m\n\u001b[0m",
      "\u001b[0;31mNameError\u001b[0m: name 'plt' is not defined"
     ]
    }
   ],
   "source": [
    "s,fig,ax = initialize()\n",
    "\n",
    "numtrials = 100*size**2\n",
    "print (\"numtrials\",numtrials)\n",
    "plt.show()\n"
   ]
  },
  {
   "cell_type": "code",
   "execution_count": null,
   "metadata": {
    "collapsed": true
   },
   "outputs": [],
   "source": []
  }
 ],
 "metadata": {
  "anaconda-cloud": {},
  "kernelspec": {
   "display_name": "Python [Root]",
   "language": "python",
   "name": "Python [Root]"
  },
  "language_info": {
   "codemirror_mode": {
    "name": "ipython",
    "version": 3
   },
   "file_extension": ".py",
   "mimetype": "text/x-python",
   "name": "python",
   "nbconvert_exporter": "python",
   "pygments_lexer": "ipython3",
   "version": "3.5.2"
  }
 },
 "nbformat": 4,
 "nbformat_minor": 0
}
