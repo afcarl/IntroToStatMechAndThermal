{
 "cells": [
  {
   "cell_type": "code",
   "execution_count": 1,
   "metadata": {
    "collapsed": false
   },
   "outputs": [],
   "source": [
    "%matplotlib inline\n",
    "import numpy as np, pandas as pd, scipy as sp\n",
    "from matplotlib import pyplot as plt\n",
    "from numpy.random import random # import only one function\n",
    "from numpy.random import randint\n",
    "import matplotlib.cm as cm"
   ]
  },
  {
   "cell_type": "code",
   "execution_count": 2,
   "metadata": {
    "collapsed": false
   },
   "outputs": [],
   "source": [
    "size = 3\n",
    "T = 2.5"
   ]
  },
  {
   "cell_type": "code",
   "execution_count": 3,
   "metadata": {
    "collapsed": false
   },
   "outputs": [
    {
     "name": "stdout",
     "output_type": "stream",
     "text": [
      "[[ 1.  1.  1.]\n",
      " [ 1.  1.  1.]\n",
      " [-1. -1. -1.]]\n"
     ]
    }
   ],
   "source": [
    "state = random([size,size])\n",
    "state[state<=0.5] = -1\n",
    "state[state>0.5] = 1\n",
    "print (state)"
   ]
  },
  {
   "cell_type": "code",
   "execution_count": 4,
   "metadata": {
    "collapsed": false
   },
   "outputs": [
    {
     "data": {
      "text/plain": [
       "<matplotlib.image.AxesImage at 0x114ab2cc0>"
      ]
     },
     "execution_count": 4,
     "metadata": {},
     "output_type": "execute_result"
    },
    {
     "data": {
      "image/png": "[encoded data removed]",
      "text/plain": [
       "<matplotlib.figure.Figure at 0x1040f8b38>"
      ]
     },
     "metadata": {},
     "output_type": "display_data"
    }
   ],
   "source": [
    "plt.imshow(state)"
   ]
  },
  {
   "cell_type": "code",
   "execution_count": 5,
   "metadata": {
    "collapsed": false
   },
   "outputs": [
    {
     "data": {
      "text/plain": [
       "<matplotlib.image.AxesImage at 0x1151bab70>"
      ]
     },
     "execution_count": 5,
     "metadata": {},
     "output_type": "execute_result"
    },
    {
     "data": {
      "image/png": "[encoded data removed]",
      "text/plain": [
       "<matplotlib.figure.Figure at 0x114aba710>"
      ]
     },
     "metadata": {},
     "output_type": "display_data"
    }
   ],
   "source": [
    "plt.imshow(state,interpolation='nearest',cmap=cm.Greys_r)"
   ]
  },
  {
   "cell_type": "code",
   "execution_count": 97,
   "metadata": {
    "collapsed": false
   },
   "outputs": [],
   "source": [
    "def energy_one(s,i,j):\n",
    "    from numpy import mod\n",
    "    above = s[mod(i+1,size),j]\n",
    "    below = s[mod(i-1,size),j]\n",
    "    right = s[i,mod(j+1,size)]\n",
    "    left =  s[i,mod(j-1,size)]\n",
    "    return -s[i,j]*(above+below+left+right)"
   ]
  },
  {
   "cell_type": "code",
   "execution_count": 99,
   "metadata": {
    "collapsed": false
   },
   "outputs": [
    {
     "name": "stdout",
     "output_type": "stream",
     "text": [
      "-2.0\n"
     ]
    }
   ],
   "source": [
    "print (energy_one(state,1,0))"
   ]
  },
  {
   "cell_type": "code",
   "execution_count": 13,
   "metadata": {
    "collapsed": false
   },
   "outputs": [
    {
     "data": {
      "text/plain": [
       "array([[ 1.,  1.,  1.],\n",
       "       [ 1.,  1.,  1.],\n",
       "       [-1., -1., -1.]])"
      ]
     },
     "execution_count": 13,
     "metadata": {},
     "output_type": "execute_result"
    }
   ],
   "source": [
    "state"
   ]
  },
  {
   "cell_type": "code",
   "execution_count": 14,
   "metadata": {
    "collapsed": false
   },
   "outputs": [],
   "source": [
    "def energy(state):\n",
    "    total = 0\n",
    "    for i in range(size):\n",
    "        for j in range(size):\n",
    "            total = total + energy_one(state,i,j)\n",
    "    return total"
   ]
  },
  {
   "cell_type": "code",
   "execution_count": 15,
   "metadata": {
    "collapsed": false
   },
   "outputs": [
    {
     "name": "stdout",
     "output_type": "stream",
     "text": [
      "-12.0\n"
     ]
    }
   ],
   "source": [
    "print (energy(state))"
   ]
  },
  {
   "cell_type": "markdown",
   "metadata": {
    "collapsed": false
   },
   "source": [
    "And, at this point, we should discuss the pseudocode and you should use [Schroeder's Model on the web](http://physics.weber.edu/schroeder/software/demos/IsingModel.html)"
   ]
  },
  {
   "cell_type": "markdown",
   "metadata": {
    "collapsed": true
   },
   "source": [
    "What's next?\n",
    "0. Pick a random state (done)\n",
    "1. Consider a move:\n",
    "    1. Flip one to the other sign\n",
    "    2. If $\\Delta U <= 0$, accept\n",
    "    3. If $\\Delta U > 0$, accept with boltzman probability"
   ]
  },
  {
   "cell_type": "markdown",
   "metadata": {},
   "source": [
    "Choose random row, random column to flip"
   ]
  },
  {
   "cell_type": "code",
   "execution_count": 37,
   "metadata": {
    "collapsed": false
   },
   "outputs": [
    {
     "data": {
      "text/plain": [
       "1"
      ]
     },
     "execution_count": 37,
     "metadata": {},
     "output_type": "execute_result"
    }
   ],
   "source": [
    "randint(3)"
   ]
  },
  {
   "cell_type": "code",
   "execution_count": 44,
   "metadata": {
    "collapsed": false
   },
   "outputs": [
    {
     "name": "stdout",
     "output_type": "stream",
     "text": [
      "reject\n",
      "accept\n",
      "reject\n",
      "reject\n",
      "reject\n",
      "reject\n",
      "reject\n",
      "reject\n",
      "reject\n",
      "reject\n"
     ]
    },
    {
     "data": {
      "text/plain": [
       "<matplotlib.image.AxesImage at 0x1159bde48>"
      ]
     },
     "execution_count": 44,
     "metadata": {},
     "output_type": "execute_result"
    },
    {
     "data": {
      "image/png": "[encoded data removed]",
      "text/plain": [
       "<matplotlib.figure.Figure at 0x1158b6550>"
      ]
     },
     "metadata": {},
     "output_type": "display_data"
    }
   ],
   "source": [
    "ntrials = 10\n",
    "for ntrial in range(ntrials):\n",
    "    i,j = randint(size),randint(size)\n",
    "    U = energy(state)\n",
    "    trialstate = state.copy()\n",
    "    trialstate[i,j] = trialstate[i,j]*(-1)\n",
    "    trialU = energy(trialstate)\n",
    "    deltaU = trialU-U\n",
    "    if deltaU <= 0:\n",
    "        state = trialstate\n",
    "        print(\"accept\")\n",
    "    else:\n",
    "        if random() < np.exp(-deltaU/T):\n",
    "            state = trialstate\n",
    "            print(\"accept\")\n",
    "        else:\n",
    "            state = state\n",
    "            print(\"reject\")\n",
    "plt.imshow(state,interpolation='nearest',cmap=cm.Greys_r)"
   ]
  },
  {
   "cell_type": "code",
   "execution_count": 45,
   "metadata": {
    "collapsed": true
   },
   "outputs": [],
   "source": [
    "from ipywidgets import interact"
   ]
  },
  {
   "cell_type": "code",
   "execution_count": 68,
   "metadata": {
    "collapsed": false
   },
   "outputs": [
    {
     "data": {
      "text/plain": [
       "array([0, 1, 2, 3, 4, 5, 6, 7, 8, 9])"
      ]
     },
     "execution_count": 68,
     "metadata": {},
     "output_type": "execute_result"
    }
   ],
   "source": [
    "np.arange(10)"
   ]
  },
  {
   "cell_type": "code",
   "execution_count": 86,
   "metadata": {
    "collapsed": false
   },
   "outputs": [
    {
     "data": {
      "text/plain": [
       "<matplotlib.image.AxesImage at 0x116541f28>"
      ]
     },
     "execution_count": 86,
     "metadata": {},
     "output_type": "execute_result"
    },
    {
     "data": {
      "image/png": "[encoded data removed]",
      "text/plain": [
       "<matplotlib.figure.Figure at 0x116650080>"
      ]
     },
     "metadata": {},
     "output_type": "display_data"
    }
   ],
   "source": [
    "state = random([size,size])\n",
    "state[state<=0.5] = -1\n",
    "state[state>0.5] = 1\n",
    "plt.imshow(state,interpolation='nearest',cmap=cm.Greys_r)"
   ]
  },
  {
   "cell_type": "code",
   "execution_count": 100,
   "metadata": {
    "collapsed": false
   },
   "outputs": [
    {
     "data": {
      "text/plain": [
       "-2.0"
      ]
     },
     "execution_count": 100,
     "metadata": {},
     "output_type": "execute_result"
    },
    {
     "data": {
      "image/png": "[encoded data removed]",
      "text/plain": [
       "<matplotlib.figure.Figure at 0x116c8c128>"
      ]
     },
     "metadata": {},
     "output_type": "display_data"
    }
   ],
   "source": [
    "plt.imshow(state,interpolation='nearest',cmap=cm.Greys_r)\n",
    "plt.colorbar()\n",
    "energy_one(state,1,0)"
   ]
  },
  {
   "cell_type": "code",
   "execution_count": 106,
   "metadata": {
    "collapsed": false
   },
   "outputs": [
    {
     "name": "stdout",
     "output_type": "stream",
     "text": [
      "[[  0. -16.   0.]\n",
      " [  0.   0. -16.]\n",
      " [-16.   0.   0.]]\n"
     ]
    },
    {
     "data": {
      "image/png": "[encoded data removed]",
      "text/plain": [
       "<matplotlib.figure.Figure at 0x116c9ac18>"
      ]
     },
     "metadata": {},
     "output_type": "display_data"
    }
   ],
   "source": [
    "state = random([size,size])\n",
    "state[state<=0.5] = -1\n",
    "state[state>0.5] = 1\n",
    "\n",
    "plt.imshow(state,interpolation='nearest',cmap=cm.Greys_r)\n",
    "plt.colorbar()\n",
    "\n",
    "deltaUs = np.zeros_like(state)\n",
    "for i in range(size):\n",
    "    for j in range(size):\n",
    "\n",
    "        U = energy(state)\n",
    "        trialstate = state.copy()\n",
    "        trialstate[i,j] = trialstate[i,j]*(-1)\n",
    "        trialU = energy(trialstate)\n",
    "        deltaU = trialU-U\n",
    "        deltaUs[i,j] = deltaU\n",
    "print(deltaUs)"
   ]
  },
  {
   "cell_type": "code",
   "execution_count": null,
   "metadata": {
    "collapsed": true
   },
   "outputs": [],
   "source": []
  },
  {
   "cell_type": "code",
   "execution_count": null,
   "metadata": {
    "collapsed": true
   },
   "outputs": [],
   "source": []
  },
  {
   "cell_type": "code",
   "execution_count": null,
   "metadata": {
    "collapsed": true
   },
   "outputs": [],
   "source": []
  },
  {
   "cell_type": "code",
   "execution_count": null,
   "metadata": {
    "collapsed": true
   },
   "outputs": [],
   "source": []
  },
  {
   "cell_type": "code",
   "execution_count": 110,
   "metadata": {
    "collapsed": false
   },
   "outputs": [
    {
     "data": {
      "image/png": "[encoded data removed]",
      "text/plain": [
       "<matplotlib.figure.Figure at 0x117c2c860>"
      ]
     },
     "metadata": {},
     "output_type": "display_data"
    }
   ],
   "source": [
    "T=3\n",
    "size = 20\n",
    "state = random([size,size])\n",
    "state[state<=0.5] = -1\n",
    "state[state>0.5] = 1\n",
    "\n",
    "acceptances = [0]\n",
    "deltaUs = []\n",
    "def nextstate(trial=0,T=10):\n",
    "    global state\n",
    "    for banana in range(100):\n",
    "        i,j = randint(size),randint(size)\n",
    "        U = energy(state)\n",
    "        trialstate = state.copy()\n",
    "        trialstate[i,j] = trialstate[i,j]*(-1)\n",
    "        trialU = energy(trialstate)\n",
    "        deltaU = trialU-U\n",
    "        deltaUs.append(deltaU)\n",
    "        if deltaU <= 0:\n",
    "            state = trialstate\n",
    "            acceptances.append(acceptances[-1]+1)\n",
    "        else:\n",
    "            if random() < np.exp(-deltaU/T):\n",
    "                state = trialstate\n",
    "                acceptances.append(acceptances[-1]+1)\n",
    "            else:\n",
    "                state = state\n",
    "                acceptances.append(acceptances[-1])\n",
    "    plt.subplot(1,3,1)\n",
    "    plt.imshow(state,interpolation='nearest',cmap=cm.Greys_r)\n",
    "    plt.subplot(1,3,2)\n",
    "    #plt.axes((0,100,0,100))\n",
    "    plt.plot(np.array(acceptances)/np.arange(len(acceptances)))\n",
    "    plt.subplot(1,3,3)\n",
    "    plt.hist(deltaUs)\n",
    "    #plt.plot(acceptances)\n",
    "interact(nextstate,trial=(0,1000),T=(2,10,0.1))"
   ]
  },
  {
   "cell_type": "code",
   "execution_count": 65,
   "metadata": {
    "collapsed": false
   },
   "outputs": [
    {
     "data": {
      "text/plain": [
       "(0.0, 1.0, 0.0, 1.0)"
      ]
     },
     "execution_count": 65,
     "metadata": {},
     "output_type": "execute_result"
    },
    {
     "data": {
      "image/png": "[encoded data removed]",
      "text/plain": [
       "<matplotlib.figure.Figure at 0x115d1b128>"
      ]
     },
     "metadata": {},
     "output_type": "display_data"
    }
   ],
   "source": [
    "plt.axis()"
   ]
  }
 ],
 "metadata": {
  "anaconda-cloud": {},
  "kernelspec": {
   "display_name": "Python [Root]",
   "language": "python",
   "name": "Python [Root]"
  },
  "language_info": {
   "codemirror_mode": {
    "name": "ipython",
    "version": 3
   },
   "file_extension": ".py",
   "mimetype": "text/x-python",
   "name": "python",
   "nbconvert_exporter": "python",
   "pygments_lexer": "ipython3",
   "version": "3.5.2"
  }
 },
 "nbformat": 4,
 "nbformat_minor": 0
}
