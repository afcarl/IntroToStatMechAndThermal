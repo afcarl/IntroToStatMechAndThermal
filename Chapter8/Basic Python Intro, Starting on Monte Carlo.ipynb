{
 "cells": [
  {
   "cell_type": "markdown",
   "metadata": {},
   "source": [
    "# Very fast Python intro"
   ]
  },
  {
   "cell_type": "markdown",
   "metadata": {},
   "source": [
    "## Functions"
   ]
  },
  {
   "cell_type": "raw",
   "metadata": {},
   "source": [
    "Functions do something and return a result. If you're defining a function yourself, you start it off with the word \"def\". For instance, here's one that does some arbitrary calculation:"
   ]
  },
  {
   "cell_type": "code",
   "execution_count": 51,
   "metadata": {
    "collapsed": false
   },
   "outputs": [],
   "source": [
    "def doit():\n",
    "    result = 1 + 3*4 + 23/2\n",
    "    return result"
   ]
  },
  {
   "cell_type": "raw",
   "metadata": {},
   "source": [
    "There are a few things to note about the above definition, especially if you're used to another programming language. First, indentation matters. The lines in the middle of the function definition get indented. If you're used to C++, for instance, Python uses indentation instead of braces. Second, the colon is important.\n",
    "\n",
    "Now, since a function does something for us, we want to see what happens when it does that thing. That's called \"calling a function\" and we do so by using the parenthesis. Here's how we'd print the results of that calculation:"
   ]
  },
  {
   "cell_type": "code",
   "execution_count": 52,
   "metadata": {
    "collapsed": false
   },
   "outputs": [
    {
     "name": "stdout",
     "output_type": "stream",
     "text": [
      "24.5\n"
     ]
    }
   ],
   "source": [
    "print(doit())"
   ]
  },
  {
   "cell_type": "raw",
   "metadata": {},
   "source": [
    "That should print out 24.5. What if we want the result of that function? We just assign it to some name of our choice by using the \"=\" sign:"
   ]
  },
  {
   "cell_type": "code",
   "execution_count": 53,
   "metadata": {
    "collapsed": false
   },
   "outputs": [
    {
     "name": "stdout",
     "output_type": "stream",
     "text": [
      "24.5\n"
     ]
    }
   ],
   "source": [
    "value = doit()\n",
    "print (value)"
   ]
  },
  {
   "cell_type": "raw",
   "metadata": {},
   "source": [
    "Functions can also take input parameters to do something with. For instance, what if we wanted the square of a number?"
   ]
  },
  {
   "cell_type": "code",
   "execution_count": 54,
   "metadata": {
    "collapsed": false
   },
   "outputs": [
    {
     "name": "stdout",
     "output_type": "stream",
     "text": [
      "None\n"
     ]
    }
   ],
   "source": [
    "def square(number):\n",
    "    number * number\n",
    "\n",
    "print (square(4))"
   ]
  },
  {
   "cell_type": "raw",
   "metadata": {},
   "source": [
    "Oops! That didn't work. What happened? We forgot to tell the function to actually return the result. We'll fix that below. We'll also add a comment. Any part of a line that comes after a \"#\" is called a comment, and gets ignored by the computer"
   ]
  },
  {
   "cell_type": "code",
   "execution_count": 55,
   "metadata": {
    "collapsed": false
   },
   "outputs": [
    {
     "name": "stdout",
     "output_type": "stream",
     "text": [
      "16\n"
     ]
    }
   ],
   "source": [
    "def square(number):\n",
    "    return number * number # don't forget the return!\n",
    "print (square(4))"
   ]
  },
  {
   "cell_type": "raw",
   "metadata": {},
   "source": [
    "We can also ask Python whether something is true, and then act on the result. For instance:"
   ]
  },
  {
   "cell_type": "code",
   "execution_count": 56,
   "metadata": {
    "collapsed": false
   },
   "outputs": [
    {
     "name": "stdout",
     "output_type": "stream",
     "text": [
      "Yay! Two is less than four\n"
     ]
    }
   ],
   "source": [
    "if 2 < 4:\n",
    "    print (\"Yay! Two is less than four\")"
   ]
  },
  {
   "cell_type": "raw",
   "metadata": {},
   "source": [
    "We can also ask Python to do something if the result is not true:"
   ]
  },
  {
   "cell_type": "code",
   "execution_count": 57,
   "metadata": {
    "collapsed": false
   },
   "outputs": [
    {
     "name": "stdout",
     "output_type": "stream",
     "text": [
      "Everything is happy!\n"
     ]
    }
   ],
   "source": [
    "if 2 > 4:\n",
    "    print (\"Something is wrong in the world!\")\n",
    "else:\n",
    "    print (\"Everything is happy!\")"
   ]
  },
  {
   "cell_type": "raw",
   "metadata": {},
   "source": [
    "Note that, once again, we used indentation to tell Python what to do when."
   ]
  },
  {
   "cell_type": "markdown",
   "metadata": {},
   "source": [
    "## Letting other people do the work for us"
   ]
  },
  {
   "cell_type": "markdown",
   "metadata": {},
   "source": [
    "One of the best things about Python is that People have written a lot of useful code for you to use and reuse. Those bits of code get stored in something called \"modules\", and we get our hands on them by \"importing\" the modules. The main ones we'll make use of are:\n",
    "\n",
    " - numpy, which contains the main code we'll use for numerically intensive calculations. The heart of numpy is its array object.\n",
    "\n",
    " - matplotlib, which contains the main code we'll use for plotting\n",
    "\n",
    " - scipy, which contains additional scientific code that we'll find useful\n",
    "\n",
    "You can import a module by saying something like \"import numpy\" and then use a numpy array with \"numpy.array\". We'll be a bit lazy (this is standard) and tell Python to rename things for us. \"import numpy as np\" means to import numpy, but call it \"np\" so that the array would be \"np.array\"."
   ]
  },
  {
   "cell_type": "code",
   "execution_count": 58,
   "metadata": {
    "collapsed": false
   },
   "outputs": [],
   "source": [
    "import numpy as np #numpy, arrays, etc.\n",
    "import matplotlib.pyplot as plt #plotting\n",
    "from numpy.random import random #import only one function from somewhere\n",
    "%matplotlib inline"
   ]
  },
  {
   "cell_type": "raw",
   "metadata": {},
   "source": [
    "Especially in our 2D ising model, we'll make use of matplotlib to graph arrays. To look ahead a bit, our 2D ising model will consist of an NxN array of dipoles, each of which can point either up or down. What if we wanted to make a random 10x10 array and plot it? The right function to use turns out to be \"imshow\" which was originally developed for plotting images (gifs, etc.), but turns out to be really fast and useful."
   ]
  },
  {
   "cell_type": "code",
   "execution_count": 59,
   "metadata": {
    "collapsed": false
   },
   "outputs": [],
   "source": [
    "randomarray = random((10,10)) # takes one argument, the dimensions of the array\n",
    "# which happen to be 10x10, or (10,10)."
   ]
  },
  {
   "cell_type": "code",
   "execution_count": 60,
   "metadata": {
    "collapsed": false
   },
   "outputs": [
    {
     "data": {
      "text/plain": [
       "<matplotlib.image.AxesImage at 0x110b3d4a8>"
      ]
     },
     "execution_count": 60,
     "metadata": {},
     "output_type": "execute_result"
    },
    {
     "data": {
      "image/png": "[encoded data removed]",
      "text/plain": [
       "<matplotlib.figure.Figure at 0x110a4a860>"
      ]
     },
     "metadata": {},
     "output_type": "display_data"
    }
   ],
   "source": [
    "plt.imshow(randomarray)"
   ]
  },
  {
   "cell_type": "raw",
   "metadata": {},
   "source": [
    "So, that certainly looks random enough. It's filled with numbers from 0 to 1, colored respectively from blue to red. We can see that by just printing out the array."
   ]
  },
  {
   "cell_type": "code",
   "execution_count": 61,
   "metadata": {
    "collapsed": false
   },
   "outputs": [
    {
     "name": "stdout",
     "output_type": "stream",
     "text": [
      "[[ 0.43369882  0.42540949  0.87667737  0.24356362  0.0987299   0.68852049\n",
      "   0.941212    0.36790867  0.77126406  0.41023995]\n",
      " [ 0.13330381  0.6004358   0.12575354  0.19601212  0.67694248  0.25960081\n",
      "   0.95026693  0.67436379  0.63199766  0.71952456]\n",
      " [ 0.277661    0.44802808  0.03207389  0.75970739  0.47606189  0.35918933\n",
      "   0.13674726  0.32068673  0.32377788  0.30709415]\n",
      " [ 0.04841238  0.78075865  0.93054528  0.44771245  0.98221883  0.36219356\n",
      "   0.06900206  0.23754558  0.71082239  0.36734081]\n",
      " [ 0.46197849  0.1624399   0.33075492  0.42383002  0.68436777  0.14041157\n",
      "   0.46334131  0.29368624  0.68511076  0.82081512]\n",
      " [ 0.9943178   0.21957926  0.9438818   0.346053    0.08480053  0.77901898\n",
      "   0.80988238  0.30835283  0.61329321  0.21745232]\n",
      " [ 0.95181029  0.47709549  0.54663377  0.16207486  0.82311814  0.67062765\n",
      "   0.91211525  0.48387241  0.31147005  0.97984091]\n",
      " [ 0.47911083  0.57227159  0.04197123  0.02846889  0.70928883  0.28348773\n",
      "   0.95063159  0.99339445  0.51772404  0.20673181]\n",
      " [ 0.17772751  0.54389439  0.91254542  0.16869122  0.68119037  0.86063596\n",
      "   0.49727835  0.3288838   0.49506093  0.87552374]\n",
      " [ 0.10909965  0.5640045   0.14205062  0.59382087  0.34084572  0.3112267\n",
      "   0.48470176  0.51607201  0.04211813  0.87496737]]\n"
     ]
    }
   ],
   "source": [
    "print (randomarray)"
   ]
  },
  {
   "cell_type": "raw",
   "metadata": {},
   "source": [
    "It also looks a little fuzzier than we'd expect. Since imshow was originally developed for images, it interpolates between the points automatically. If we want it to stop doing that, we tell it interpolation=\"none\" ... actually, in order to make things a bit more portable, we say interpolation=\"nearest\""
   ]
  },
  {
   "cell_type": "code",
   "execution_count": 62,
   "metadata": {
    "collapsed": false
   },
   "outputs": [
    {
     "data": {
      "text/plain": [
       "<matplotlib.image.AxesImage at 0x110c7a0f0>"
      ]
     },
     "execution_count": 62,
     "metadata": {},
     "output_type": "execute_result"
    },
    {
     "data": {
      "image/png": "[encoded data removed]",
      "text/plain": [
       "<matplotlib.figure.Figure at 0x110b4ada0>"
      ]
     },
     "metadata": {},
     "output_type": "display_data"
    }
   ],
   "source": [
    "plt.imshow(randomarray,interpolation=\"nearest\")"
   ]
  },
  {
   "cell_type": "raw",
   "metadata": {},
   "source": [
    "The numpy array is almost magically useful in terms of the syntax we can use to do what we want. For instance, if our dipoles can only point up or down, we might want to say that everything >= 0.5 is pointing up and everything < 0.5 is pointing down. If we call 0 down and 1 up, and first make a copy of the array so that we can refer back to the original one, we can do that with"
   ]
  },
  {
   "cell_type": "code",
   "execution_count": 63,
   "metadata": {
    "collapsed": false
   },
   "outputs": [
    {
     "name": "stdout",
     "output_type": "stream",
     "text": [
      "[[ 0.  0.  1.  0.  0.  1.  1.  0.  1.  0.]\n",
      " [ 0.  1.  0.  0.  1.  0.  1.  1.  1.  1.]\n",
      " [ 0.  0.  0.  1.  0.  0.  0.  0.  0.  0.]\n",
      " [ 0.  1.  1.  0.  1.  0.  0.  0.  1.  0.]\n",
      " [ 0.  0.  0.  0.  1.  0.  0.  0.  1.  1.]\n",
      " [ 1.  0.  1.  0.  0.  1.  1.  0.  1.  0.]\n",
      " [ 1.  0.  1.  0.  1.  1.  1.  0.  0.  1.]\n",
      " [ 0.  1.  0.  0.  1.  0.  1.  1.  1.  0.]\n",
      " [ 0.  1.  1.  0.  1.  1.  0.  0.  0.  1.]\n",
      " [ 0.  1.  0.  1.  0.  0.  0.  1.  0.  1.]]\n"
     ]
    },
    {
     "data": {
      "text/plain": [
       "<matplotlib.image.AxesImage at 0x11106bf60>"
      ]
     },
     "execution_count": 63,
     "metadata": {},
     "output_type": "execute_result"
    },
    {
     "data": {
      "image/png": "[encoded data removed]",
      "text/plain": [
       "<matplotlib.figure.Figure at 0x110c4d4a8>"
      ]
     },
     "metadata": {},
     "output_type": "display_data"
    }
   ],
   "source": [
    "ra2 = randomarray.copy()\n",
    "ra2[ra2 < 0.5] = 0\n",
    "ra2[ra2 >= 0.5] = 1\n",
    "print (ra2)\n",
    "plt.imshow(ra2,interpolation=\"nearest\")"
   ]
  },
  {
   "cell_type": "raw",
   "metadata": {},
   "source": [
    "What's going on here is that ra>0.5 makes a list of the entries of ra2 that are greater than 0.5, which we can use to index into ra2 itself.\n",
    "\n",
    "Speaking of indexing, let's talk about Python indexing a bit. One of the basic Python data structures is a list. You make these by using square brackets. For instance, we might make a list of fruits with:"
   ]
  },
  {
   "cell_type": "code",
   "execution_count": 64,
   "metadata": {
    "collapsed": false
   },
   "outputs": [],
   "source": [
    "mylist = [\"apple\",\"peach\",\"pear\",\"plum\"]"
   ]
  },
  {
   "cell_type": "raw",
   "metadata": {},
   "source": [
    "And we can pick out specific elements in the list by indexing into them, again using square brackets. For instance, mylist[2] will give us \"element number 2\":"
   ]
  },
  {
   "cell_type": "code",
   "execution_count": 65,
   "metadata": {
    "collapsed": false
   },
   "outputs": [
    {
     "name": "stdout",
     "output_type": "stream",
     "text": [
      "pear\n"
     ]
    }
   ],
   "source": [
    "print (mylist[2])"
   ]
  },
  {
   "cell_type": "raw",
   "metadata": {},
   "source": [
    "But, you might have expected that to print out \"peach\" ... Python, like most modern computer languages, starts indexing things with 0 instead of 1. So, \"apple\" is mylist[0], \"plum\" is mylist[3], and there is no mylist[72]:"
   ]
  },
  {
   "cell_type": "code",
   "execution_count": 66,
   "metadata": {
    "collapsed": false
   },
   "outputs": [
    {
     "ename": "IndexError",
     "evalue": "list index out of range",
     "output_type": "error",
     "traceback": [
      "\u001b[0;31m---------------------------------------------------------------------------\u001b[0m",
      "\u001b[0;31mIndexError\u001b[0m                                Traceback (most recent call last)",
      "\u001b[0;32m<ipython-input-66-8b517909974e>\u001b[0m in \u001b[0;36m<module>\u001b[0;34m()\u001b[0m\n\u001b[0;32m----> 1\u001b[0;31m \u001b[0mprint\u001b[0m \u001b[0;34m(\u001b[0m\u001b[0mmylist\u001b[0m\u001b[0;34m[\u001b[0m\u001b[0;36m72\u001b[0m\u001b[0;34m]\u001b[0m\u001b[0;34m)\u001b[0m\u001b[0;34m\u001b[0m\u001b[0m\n\u001b[0m",
      "\u001b[0;31mIndexError\u001b[0m: list index out of range"
     ]
    }
   ],
   "source": [
    "print (mylist[72])"
   ]
  },
  {
   "cell_type": "raw",
   "metadata": {},
   "source": [
    "So, for instance, we can set specific elements of ra2. When indexing a multidimensional array (here, we have a 2-dimensional array), you need to specify the row and column (or the i,j,k indices, or whatever you choose to call them). Let's set 0,0 to 0 and 1. You can use ra2[0,0] or ra2[(0,0)] ... they mean the same thing."
   ]
  },
  {
   "cell_type": "code",
   "execution_count": 67,
   "metadata": {
    "collapsed": false
   },
   "outputs": [
    {
     "data": {
      "text/plain": [
       "<matplotlib.image.AxesImage at 0x1110d7710>"
      ]
     },
     "execution_count": 67,
     "metadata": {},
     "output_type": "execute_result"
    },
    {
     "data": {
      "image/png": "[encoded data removed]",
      "text/plain": [
       "<matplotlib.figure.Figure at 0x111046c18>"
      ]
     },
     "metadata": {},
     "output_type": "display_data"
    }
   ],
   "source": [
    "ra2[(0,0)] = 1\n",
    "plt.imshow(ra2,interpolation='nearest')"
   ]
  },
  {
   "cell_type": "code",
   "execution_count": 68,
   "metadata": {
    "collapsed": false
   },
   "outputs": [
    {
     "data": {
      "text/plain": [
       "<matplotlib.image.AxesImage at 0x1111e1748>"
      ]
     },
     "execution_count": 68,
     "metadata": {},
     "output_type": "execute_result"
    },
    {
     "data": {
      "image/png": "[encoded data removed]",
      "text/plain": [
       "<matplotlib.figure.Figure at 0x1110eb518>"
      ]
     },
     "metadata": {},
     "output_type": "display_data"
    }
   ],
   "source": [
    "ra2[0,0] = 0\n",
    "plt.imshow(ra2,interpolation='nearest')"
   ]
  },
  {
   "cell_type": "raw",
   "metadata": {},
   "source": [
    "See how the upper-left corner changed?"
   ]
  },
  {
   "cell_type": "markdown",
   "metadata": {},
   "source": [
    "## Monte Carlo PI"
   ]
  },
  {
   "cell_type": "raw",
   "metadata": {},
   "source": [
    "As discussed in class, we can use random numbers to estimate pi. This is just our idea of throwing darts at a dartboard. We took a very special dartboard, a circle of diameter one, stuck on a square wall with sides of length one. The area of the square is 1, and the area of the circle is pi/4. So, if we throw a bunch of darts at the dartboard, the ratio of darts that hit the circle vs. darts that that we've thrown (assuming we always hit something!) should give us pi/4."
   ]
  },
  {
   "cell_type": "raw",
   "metadata": {},
   "source": [
    "We'll need two more useful Python tools to get started. First, if we want to get a range of numbers, we use the \"range\" function. Again, this starts at 0, and the argument you give it tells it how many numbers to return, so range(4) will give 0,1,2,3:"
   ]
  },
  {
   "cell_type": "code",
   "execution_count": 70,
   "metadata": {
    "collapsed": false
   },
   "outputs": [
    {
     "name": "stdout",
     "output_type": "stream",
     "text": [
      "[0, 1, 2, 3, 4, 5, 6, 7, 8, 9]\n"
     ]
    }
   ],
   "source": [
    "print (list(range(10)))"
   ]
  },
  {
   "cell_type": "raw",
   "metadata": {},
   "source": [
    "We're going to use that because we want to be able to specify the number of darts we throw at the dartboard. The standard Python way to do that is by using a for loop and the range function. The most basic form of a for loop looks like \"for <name> in <list>:\" and it runs over the whole list, assigning <name> to each item in the list, in order. For instance, to print the first 10 numbers:"
   ]
  },
  {
   "cell_type": "code",
   "execution_count": 71,
   "metadata": {
    "collapsed": false
   },
   "outputs": [
    {
     "name": "stdout",
     "output_type": "stream",
     "text": [
      "0\n",
      "1\n",
      "2\n",
      "3\n",
      "4\n",
      "5\n",
      "6\n",
      "7\n",
      "8\n",
      "9\n"
     ]
    }
   ],
   "source": [
    "for i in range(10):\n",
    "    print (i)"
   ]
  },
  {
   "cell_type": "raw",
   "metadata": {},
   "source": [
    "This becomes significantly more useful if you decide you want to actually do something with the values, rather than just listing them off. For instance, if you wanted to print the first 10 squares, you could do"
   ]
  },
  {
   "cell_type": "code",
   "execution_count": 72,
   "metadata": {
    "collapsed": false
   },
   "outputs": [
    {
     "name": "stdout",
     "output_type": "stream",
     "text": [
      "0\n",
      "1\n",
      "4\n",
      "9\n",
      "16\n",
      "25\n",
      "36\n",
      "49\n",
      "64\n",
      "81\n"
     ]
    }
   ],
   "source": [
    "for i in range(10):\n",
    "    print (i*i)"
   ]
  },
  {
   "cell_type": "raw",
   "metadata": {},
   "source": [
    "Or you could reuse the function we defined earlier. You can print several things out at once if you like:"
   ]
  },
  {
   "cell_type": "code",
   "execution_count": 73,
   "metadata": {
    "collapsed": false
   },
   "outputs": [
    {
     "name": "stdout",
     "output_type": "stream",
     "text": [
      "0 0\n",
      "1 1\n",
      "2 4\n",
      "3 9\n",
      "4 16\n",
      "5 25\n",
      "6 36\n",
      "7 49\n",
      "8 64\n",
      "9 81\n"
     ]
    }
   ],
   "source": [
    "for i in range(10):\n",
    "    print (i,square(i))"
   ]
  },
  {
   "cell_type": "markdown",
   "metadata": {},
   "source": [
    "If you remember from class, we had $\\pi$ = 4 * (number of darts in the circle/total number of darts). I think it's easier to just write out some code and see if it makes sense. So here we go. Note that you square things with two stars. I.e. 8 squared is written 8**2. 8^2 is something very different, which we won't need here."
   ]
  },
  {
   "cell_type": "code",
   "execution_count": null,
   "metadata": {
    "collapsed": false
   },
   "outputs": [],
   "source": [
    "def estimatepi(ndarts):\n",
    "    number_in_circle = 0\n",
    "    for i in range(ndarts):\n",
    "        x,y = random(2) # remember this gets random numbers between 0 and 1\n",
    "        if x**2 + y**2 < 1:\n",
    "            number_in_circle = number_in_circle + 1\n",
    "    pi_guess = 4*number_in_circle/ndarts\n",
    "    return pi_guess"
   ]
  },
  {
   "cell_type": "code",
   "execution_count": 74,
   "metadata": {
    "collapsed": false
   },
   "outputs": [
    {
     "name": "stdout",
     "output_type": "stream",
     "text": [
      "2.8\n"
     ]
    }
   ],
   "source": [
    "print (estimatepi(10))"
   ]
  },
  {
   "cell_type": "code",
   "execution_count": 79,
   "metadata": {
    "collapsed": false
   },
   "outputs": [
    {
     "name": "stdout",
     "output_type": "stream",
     "text": [
      "3.6\n"
     ]
    }
   ],
   "source": [
    "print (estimatepi(10))"
   ]
  },
  {
   "cell_type": "raw",
   "metadata": {},
   "source": [
    "See how they're different? That's because we chose different random numbers each time. What happens if throw a lot more darts?"
   ]
  },
  {
   "cell_type": "code",
   "execution_count": 80,
   "metadata": {
    "collapsed": false
   },
   "outputs": [
    {
     "name": "stdout",
     "output_type": "stream",
     "text": [
      "3.1444\n"
     ]
    }
   ],
   "source": [
    "print (estimatepi(10000))"
   ]
  },
  {
   "cell_type": "code",
   "execution_count": 81,
   "metadata": {
    "collapsed": false
   },
   "outputs": [
    {
     "name": "stdout",
     "output_type": "stream",
     "text": [
      "3.14804\n"
     ]
    }
   ],
   "source": [
    "print (estimatepi(100000))"
   ]
  },
  {
   "cell_type": "code",
   "execution_count": null,
   "metadata": {
    "collapsed": false
   },
   "outputs": [],
   "source": [
    "print (estimatepi(10000000))"
   ]
  },
  {
   "cell_type": "raw",
   "metadata": {},
   "source": [
    "(That last one takes a while to compute!). So, it gets better each time. That's cool. We'll talk about how to make a smarter algorithm as we go on."
   ]
  },
  {
   "cell_type": "markdown",
   "metadata": {},
   "source": [
    "## Monte Carlo Integration"
   ]
  },
  {
   "cell_type": "raw",
   "metadata": {},
   "source": [
    "To recap our in-class discussion: what's an integral? Really, it's just a way of asking what happens when we add up a bunch of things. For instance, let's say we have a 1-dimensional hill described by the function x**2. For fun, let's see how to plot that. Instead of using range, we'll use a fancier version provided by numpy: \"linspace\". ;inspace(<start>,<stop>,<numpoints>) gives us equally spaced points within a range:"
   ]
  },
  {
   "cell_type": "code",
   "execution_count": 83,
   "metadata": {
    "collapsed": false
   },
   "outputs": [
    {
     "name": "stdout",
     "output_type": "stream",
     "text": [
      "[ 0.   0.1  0.2  0.3  0.4  0.5  0.6  0.7  0.8  0.9  1. ]\n"
     ]
    }
   ],
   "source": [
    "print (np.linspace(0,1,11))"
   ]
  },
  {
   "cell_type": "raw",
   "metadata": {},
   "source": [
    "So, if we want to plot our function from 0 to 1, we can make it as smooth as we'd like. To get 2D plots of functions, we use the \"plot\" function from matplotlib's pyplot. Remember when we imported matplotlib.pyplot as plt before? That means we'll use plt.plot to plot things. It takes in the x values and the y values and then plots them."
   ]
  },
  {
   "cell_type": "code",
   "execution_count": 84,
   "metadata": {
    "collapsed": false
   },
   "outputs": [
    {
     "data": {
      "text/plain": [
       "[<matplotlib.lines.Line2D at 0x1112fd358>]"
      ]
     },
     "execution_count": 84,
     "metadata": {},
     "output_type": "execute_result"
    },
    {
     "data": {
      "image/png": "[encoded data removed]",
      "text/plain": [
       "<matplotlib.figure.Figure at 0x1111b1ef0>"
      ]
     },
     "metadata": {},
     "output_type": "display_data"
    }
   ],
   "source": [
    "points = np.linspace(0,1,5)\n",
    "def f(x):\n",
    "    # Note the magic of the numpy arrays here. linspace gives us back an array.\n",
    "    # If x is an array, x**2 squares every element in the array. For those of you\n",
    "    # That have had some linear algebra, this means that arrays are NOT vectors.\n",
    "    # You can also do things like x/2 to get everything in x divided by 2.\n",
    "    return x**2\n",
    "plt.plot(points,f(points))\n"
   ]
  },
  {
   "cell_type": "code",
   "execution_count": 85,
   "metadata": {
    "collapsed": false
   },
   "outputs": [
    {
     "data": {
      "text/plain": [
       "[<matplotlib.lines.Line2D at 0x1113ccc18>]"
      ]
     },
     "execution_count": 85,
     "metadata": {},
     "output_type": "execute_result"
    },
    {
     "data": {
      "image/png": "[encoded data removed]",
      "text/plain": [
       "<matplotlib.figure.Figure at 0x110c9b400>"
      ]
     },
     "metadata": {},
     "output_type": "display_data"
    }
   ],
   "source": [
    "# That's a little blocky, so let's plot more points\n",
    "points = np.linspace(0,1,100)\n",
    "plt.plot(points,f(points))"
   ]
  },
  {
   "cell_type": "raw",
   "metadata": {},
   "source": [
    "So what if we wanted to find the integral of f from 0 to 1? One way would be to do it mathematically. That's fine for simple functions, but can be hard or impossible in many important cases. So, what if we think back to our dartboard? What if we throw darts at our x axis and average all of the y values that we get? To use some better language, what if we sample randomly from the domain of the function and average the results?"
   ]
  },
  {
   "cell_type": "code",
   "execution_count": 86,
   "metadata": {
    "collapsed": false
   },
   "outputs": [],
   "source": [
    "def estimatef(ntrials):\n",
    "    total = 0\n",
    "    for i in range(ntrials):\n",
    "        x = random()\n",
    "        total = total + f(x)\n",
    "    result = total / ntrials\n",
    "    return result"
   ]
  },
  {
   "cell_type": "raw",
   "metadata": {},
   "source": [
    "In this case, we can do the integral by hand (1/3)x**3, so we know the answer should be (1/3)*1 - (1/3)*0 = 1/3. How do we do?"
   ]
  },
  {
   "cell_type": "code",
   "execution_count": 87,
   "metadata": {
    "collapsed": false
   },
   "outputs": [
    {
     "name": "stdout",
     "output_type": "stream",
     "text": [
      "0.277019362006161\n"
     ]
    }
   ],
   "source": [
    "print (estimatef(10))"
   ]
  },
  {
   "cell_type": "code",
   "execution_count": 88,
   "metadata": {
    "collapsed": false
   },
   "outputs": [
    {
     "name": "stdout",
     "output_type": "stream",
     "text": [
      "0.5411146849571372\n"
     ]
    }
   ],
   "source": [
    "print (estimatef(10))"
   ]
  },
  {
   "cell_type": "code",
   "execution_count": 89,
   "metadata": {
    "collapsed": false
   },
   "outputs": [
    {
     "name": "stdout",
     "output_type": "stream",
     "text": [
      "0.3308490116036892\n"
     ]
    }
   ],
   "source": [
    "print (estimatef(10000))"
   ]
  },
  {
   "cell_type": "code",
   "execution_count": 90,
   "metadata": {
    "collapsed": false
   },
   "outputs": [
    {
     "name": "stdout",
     "output_type": "stream",
     "text": [
      "0.33329057296545617\n"
     ]
    }
   ],
   "source": [
    "print (estimatef(1000000))"
   ]
  },
  {
   "cell_type": "raw",
   "metadata": {},
   "source": [
    "Again, not bad!\n",
    "\n",
    "[We won't focus too much more on Monte Carlo integration, but I should mention one simplification we've made: remember the dart board? We had to divide by the area of the square. In terms of Monte Carlo integration, you should think of that as saying we need to divide by the (n-dimensional) volume we're integrating over. In the above case, we were integrating from 0 to 1, so the \"volume\" is just 1. If we were integrating from 2 to 5, the volume would have been 5-2=3 (try it out!). If we were evaluating a function of several variables, we'd have to take a larger-dimensional volume.]\n",
    "\n",
    "And it gets better with the number of trials (or darts, if you must).  But we wonder if we can be smarter. Specifically, if you think of the integral as the area under the curve, not all of the points are contributing equally to that area. In the above graph, the points closer to 1 are contributing more to the area. So, we might be smarter by sampling those points more often, and then figuring out how to weight our results. That's the basic idea of Metropolos Monte Carlo routines, also called \"importance sampling\" due to the above argument."
   ]
  },
  {
   "cell_type": "markdown",
   "metadata": {},
   "source": [
    "## Metropolis Monte Carlo"
   ]
  },
  {
   "cell_type": "raw",
   "metadata": {},
   "source": [
    "In the previous examples, we could do a good job of things by just sampling randomly. But, what if the space we're sampling from gets big? In Statistical Mechanics, you may recall that it's really easy to run into a discrete state space with more states than there are particles in the universe, and sampling over even 10% of these would take longer than the life of the universe on modern computers. So, how can we be smart about sampling? The key idea is that we know something important about the underlying distribution of states: it's a Boltzmann distribution. We use that to make our sampling smart."
   ]
  },
  {
   "cell_type": "code",
   "execution_count": null,
   "metadata": {
    "collapsed": true
   },
   "outputs": [],
   "source": []
  }
 ],
 "metadata": {
  "kernelspec": {
   "display_name": "Python [Root]",
   "language": "python",
   "name": "Python [Root]"
  },
  "language_info": {
   "codemirror_mode": {
    "name": "ipython",
    "version": 3
   },
   "file_extension": ".py",
   "mimetype": "text/x-python",
   "name": "python",
   "nbconvert_exporter": "python",
   "pygments_lexer": "ipython3",
   "version": "3.5.2"
  }
 },
 "nbformat": 4,
 "nbformat_minor": 0
}
