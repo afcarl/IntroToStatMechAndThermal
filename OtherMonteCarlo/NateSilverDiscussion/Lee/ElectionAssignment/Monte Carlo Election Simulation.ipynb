{
 "cells": [
  {
   "cell_type": "markdown",
   "metadata": {},
   "source": [
    "# System setup"
   ]
  },
  {
   "cell_type": "code",
   "execution_count": 1,
   "metadata": {
    "collapsed": true
   },
   "outputs": [],
   "source": [
    "import numpy as np, pandas as pd, scipy as sp\n",
    "from matplotlib import pyplot as plt\n",
    "import seaborn as sns\n",
    "%matplotlib inline"
   ]
  },
  {
   "cell_type": "markdown",
   "metadata": {},
   "source": [
    "# Importing the polling data"
   ]
  },
  {
   "cell_type": "code",
   "execution_count": 2,
   "metadata": {
    "collapsed": true
   },
   "outputs": [],
   "source": [
    "import ec_votes as ec, polling_data as poll"
   ]
  },
  {
   "cell_type": "markdown",
   "metadata": {},
   "source": [
    "# How should we handle polling data\n",
    "\n",
    "We had a nice discussion in class about the fact that the polls will typically say things like\n",
    "\n",
    "```python\n",
    "'Arizona': [['PPP (D): 11/2 - 11/3',46,53,3],\n",
    "```\n",
    "\n",
    "which has two issues\n",
    "\n",
    "1. 46 + 53 != 100\n",
    "2. 3 is the \"margin of error\" rather than the std dev.\n",
    "\n",
    "So, we'll \"scale\" the results so that we treat it as a 53-46 = 7 point \"edge\" with a 3/2 = 1.5 std dev. For now, let's just take the most recent polls.\n",
    "\n",
    "We also have the electoral college votes in a dictionary like\n",
    "\n",
    "```python\n",
    "Electoral_College = {'Alabama': ['AL',9],\n",
    "                    'Alaska': ['AK',3],\n",
    "```"
   ]
  },
  {
   "cell_type": "code",
   "execution_count": 3,
   "metadata": {
    "collapsed": false
   },
   "outputs": [],
   "source": [
    "STATE_NAMES = np.array(list(poll.States.keys()))\n",
    "EC_VOTES = np.array([ec.Electoral_College[state][1] for state in STATE_NAMES])\n",
    "\n",
    "def get_drm_probs():\n",
    "    \"\"\"\n",
    "    return voting results per state, where anything over 0.5 means the democrat wins.\n",
    "    \"\"\"\n",
    "    result = []\n",
    "    for state in STATE_NAMES:\n",
    "        description, dempct, reppct, moe = poll.States[state][0] # most recent\n",
    "        edge = (50 + (dempct - reppct)/2)/100\n",
    "        result.append(np.random.normal(edge,(moe/2)/100))\n",
    "    return np.array(result)\n",
    "\n",
    "def nation_vote_once():\n",
    "    votes = get_drm_probs()\n",
    "    d_ec = EC_VOTES[votes > 0.5]\n",
    "    r_ec = EC_VOTES[votes < 0.5]\n",
    "    # for more sophisticated analysis, we may want to know the actual breakdown.\n",
    "    # for general results, just d_ec.sum() is what we need.\n",
    "    return d_ec.sum(),d_ec,r_ec"
   ]
  },
  {
   "cell_type": "code",
   "execution_count": 4,
   "metadata": {
    "collapsed": false
   },
   "outputs": [],
   "source": [
    "def nation_vote_slowly(trials):\n",
    "    results = [nation_vote_once()[0] for i in range(trials)]\n",
    "    return np.array(results)"
   ]
  },
  {
   "cell_type": "code",
   "execution_count": 5,
   "metadata": {
    "collapsed": true
   },
   "outputs": [],
   "source": [
    "def plot(ec_results,nbins=100):\n",
    "    dem_win_pct = 100*(ec_results >= 270).sum()/len(ec_results)\n",
    "    n, bins, patches = plt.hist(ec_results,bins=nbins)\n",
    "    plt.title('Dem win {d:.1f}%'.format(d=dem_win_pct))    \n",
    "\n",
    "    # Everything below this just does the coloring.\n",
    "    bin_centers = 0.5 * (bins[:-1] + bins[1:])\n",
    "    colors = []\n",
    "    for c in bin_centers:\n",
    "        if c < 270: \n",
    "            colors.append('red')\n",
    "        else: \n",
    "            colors.append('blue')\n",
    "    for c, p in zip(colors, patches):\n",
    "        plt.setp(p, 'facecolor', c)\n",
    "\n"
   ]
  },
  {
   "cell_type": "code",
   "execution_count": 21,
   "metadata": {
    "collapsed": false
   },
   "outputs": [
    {
     "data": {
      "image/png": "[encoded data removed]",
      "text/plain": [
       "<matplotlib.figure.Figure at 0x108c8ce10>"
      ]
     },
     "metadata": {},
     "output_type": "display_data"
    }
   ],
   "source": [
    "trials = 10000\n",
    "plot(nation_vote_slowly(trials),nbins=50)"
   ]
  },
  {
   "cell_type": "code",
   "execution_count": 7,
   "metadata": {
    "collapsed": false
   },
   "outputs": [
    {
     "data": {
      "text/plain": [
       "<matplotlib.axes._subplots.AxesSubplot at 0x118ec3828>"
      ]
     },
     "execution_count": 7,
     "metadata": {},
     "output_type": "execute_result"
    },
    {
     "data": {
      "image/png": "[encoded data removed]",
      "text/plain": [
       "<matplotlib.figure.Figure at 0x116af1dd8>"
      ]
     },
     "metadata": {},
     "output_type": "display_data"
    }
   ],
   "source": [
    "sns.kdeplot(nation_vote_slowly(trials=100000))"
   ]
  },
  {
   "cell_type": "markdown",
   "metadata": {},
   "source": [
    "## Voting more quickly\n",
    "\n",
    "I think the above is actually pretty fast, but we can speed it up a bit by asking `np.random.normal` to give us `trials` worth of answers each time."
   ]
  },
  {
   "cell_type": "code",
   "execution_count": 8,
   "metadata": {
    "collapsed": true
   },
   "outputs": [],
   "source": [
    "def get_drm_probs_fast(trials=1):\n",
    "    \"\"\"\n",
    "    return voting results per state, where anything over 0.5 means the democrat wins.\n",
    "    \"\"\"\n",
    "    result = []\n",
    "    for state in STATE_NAMES:\n",
    "        description, dempct, reppct, moe = poll.States[state][0] # most recent\n",
    "        edge = (50 + (dempct - reppct)/2)/100\n",
    "        result.append(np.random.normal(edge,(moe/2)/100,trials))\n",
    "    return np.array(result)"
   ]
  },
  {
   "cell_type": "code",
   "execution_count": 9,
   "metadata": {
    "collapsed": false
   },
   "outputs": [
    {
     "data": {
      "text/plain": [
       "(56, 10)"
      ]
     },
     "execution_count": 9,
     "metadata": {},
     "output_type": "execute_result"
    }
   ],
   "source": [
    "get_drm_probs_fast(10).shape"
   ]
  },
  {
   "cell_type": "code",
   "execution_count": 10,
   "metadata": {
    "collapsed": false
   },
   "outputs": [
    {
     "data": {
      "text/plain": [
       "0.49466490185330658"
      ]
     },
     "execution_count": 10,
     "metadata": {},
     "output_type": "execute_result"
    }
   ],
   "source": [
    "get_drm_probs_fast(10).mean()"
   ]
  },
  {
   "cell_type": "code",
   "execution_count": 11,
   "metadata": {
    "collapsed": false
   },
   "outputs": [
    {
     "data": {
      "text/plain": [
       "(56,)"
      ]
     },
     "execution_count": 11,
     "metadata": {},
     "output_type": "execute_result"
    }
   ],
   "source": [
    "get_drm_probs_fast(10).mean(axis=1).shape"
   ]
  },
  {
   "cell_type": "code",
   "execution_count": 12,
   "metadata": {
    "collapsed": true
   },
   "outputs": [],
   "source": [
    "def nation_vote_quickly(trials):\n",
    "    votes = get_drm_probs_fast(trials)\n",
    "    d_win = votes > 0.5\n",
    "    # has shape [ec_districts, trials]\n",
    "    d_ec = d_win * EC_VOTES.reshape((56,1))\n",
    "    return d_ec.sum(axis=0)"
   ]
  },
  {
   "cell_type": "code",
   "execution_count": 13,
   "metadata": {
    "collapsed": false
   },
   "outputs": [
    {
     "data": {
      "image/png": "[encoded data removed]",
      "text/plain": [
       "<matplotlib.figure.Figure at 0x11969b0f0>"
      ]
     },
     "metadata": {},
     "output_type": "display_data"
    }
   ],
   "source": [
    "plot(nation_vote_quickly(trials=100000),nbins=50)"
   ]
  },
  {
   "cell_type": "code",
   "execution_count": 14,
   "metadata": {
    "collapsed": false
   },
   "outputs": [
    {
     "name": "stdout",
     "output_type": "stream",
     "text": [
      "100 loops, best of 3: 2.18 ms per loop\n"
     ]
    }
   ],
   "source": [
    "%timeit nation_vote_quickly(1000)"
   ]
  },
  {
   "cell_type": "code",
   "execution_count": 15,
   "metadata": {
    "collapsed": false
   },
   "outputs": [
    {
     "name": "stdout",
     "output_type": "stream",
     "text": [
      "10 loops, best of 3: 81.1 ms per loop\n"
     ]
    }
   ],
   "source": [
    "%timeit nation_vote_slowly(1000)"
   ]
  },
  {
   "cell_type": "markdown",
   "metadata": {},
   "source": [
    "## Taking the last several polls into account\n",
    "\n",
    "One simple improvement would be to take an average of the last N polls. Let's do that in `get_drm_probs_fast`"
   ]
  },
  {
   "cell_type": "code",
   "execution_count": 16,
   "metadata": {
    "collapsed": true
   },
   "outputs": [],
   "source": [
    "def get_drm_probs_fast_with_history(trials=1,npolls=1):\n",
    "    \"\"\"\n",
    "    return voting results per state, where anything over 0.5 means the democrat wins.\n",
    "    \"\"\"\n",
    "    result = []\n",
    "    for state in STATE_NAMES:\n",
    "        recent_polls = list(reversed(poll.States[state]))[-npolls:]\n",
    "        edges = [((dempct - reppct),moe) for (description, dempct, reppct, moe) in recent_polls]\n",
    "        # To be correct for the MOEs here, we should take a weighted average. But we don't know the sample sizes.\n",
    "        # And smart people would probably weight by pollster reliability. We'll just take the sqrt of the \n",
    "        # average of the squares.\n",
    "        av_edge = np.mean([e for (e,m) in edges]) # could use zip, of course\n",
    "        stds = np.array([m for (e,m) in edges])/2 # remember, MOE is 2*std\n",
    "        av_std = np.sqrt((stds**2).mean())\n",
    "        \n",
    "        av_edge = (50 + av_edge/2)/100\n",
    "        av_std = av_std/100\n",
    "        result.append(np.random.normal(av_edge,av_std,trials))\n",
    "    return np.array(result)\n",
    "\n",
    "def nation_vote_quickly_with_history(trials,npolls):\n",
    "    votes = get_drm_probs_fast_with_history(trials,npolls)\n",
    "    d_win = votes > 0.5\n",
    "    # has shape [ec_districts, trials]\n",
    "    d_ec = d_win * EC_VOTES.reshape((56,1))\n",
    "    return d_ec.sum(axis=0)"
   ]
  },
  {
   "cell_type": "code",
   "execution_count": 17,
   "metadata": {
    "collapsed": false
   },
   "outputs": [
    {
     "data": {
      "image/png": "[encoded data removed]",
      "text/plain": [
       "<matplotlib.figure.Figure at 0x119001c18>"
      ]
     },
     "metadata": {},
     "output_type": "display_data"
    }
   ],
   "source": [
    "plot(nation_vote_quickly_with_history(trials=100000,npolls=5),nbins=50)"
   ]
  },
  {
   "cell_type": "code",
   "execution_count": null,
   "metadata": {
    "collapsed": true
   },
   "outputs": [],
   "source": []
  },
  {
   "cell_type": "code",
   "execution_count": null,
   "metadata": {
    "collapsed": true
   },
   "outputs": [],
   "source": []
  },
  {
   "cell_type": "code",
   "execution_count": null,
   "metadata": {
    "collapsed": true
   },
   "outputs": [],
   "source": []
  },
  {
   "cell_type": "markdown",
   "metadata": {},
   "source": [
    "## Array broadcasting\n",
    "\n",
    "Worth looking up. Here's an example"
   ]
  },
  {
   "cell_type": "code",
   "execution_count": 18,
   "metadata": {
    "collapsed": false
   },
   "outputs": [
    {
     "name": "stdout",
     "output_type": "stream",
     "text": [
      "(3, 2)\n",
      "[[3 4]\n",
      " [5 6]\n",
      " [7 8]]\n"
     ]
    }
   ],
   "source": [
    "a = np.array([[3,4],[5,6],[7,8]])\n",
    "print(a.shape)\n",
    "print(a)"
   ]
  },
  {
   "cell_type": "code",
   "execution_count": 19,
   "metadata": {
    "collapsed": false
   },
   "outputs": [
    {
     "data": {
      "text/plain": [
       "(3,)"
      ]
     },
     "execution_count": 19,
     "metadata": {},
     "output_type": "execute_result"
    }
   ],
   "source": [
    "b = np.array([1,2,3])\n",
    "b.shape"
   ]
  },
  {
   "cell_type": "code",
   "execution_count": 20,
   "metadata": {
    "collapsed": false
   },
   "outputs": [
    {
     "ename": "ValueError",
     "evalue": "operands could not be broadcast together with shapes (3,2) (3,) ",
     "output_type": "error",
     "traceback": [
      "\u001b[0;31m---------------------------------------------------------------------------\u001b[0m",
      "\u001b[0;31mValueError\u001b[0m                                Traceback (most recent call last)",
      "\u001b[0;32m<ipython-input-20-8201c27d19b7>\u001b[0m in \u001b[0;36m<module>\u001b[0;34m()\u001b[0m\n\u001b[0;32m----> 1\u001b[0;31m \u001b[0ma\u001b[0m\u001b[0;34m*\u001b[0m\u001b[0mb\u001b[0m\u001b[0;34m\u001b[0m\u001b[0m\n\u001b[0m",
      "\u001b[0;31mValueError\u001b[0m: operands could not be broadcast together with shapes (3,2) (3,) "
     ]
    }
   ],
   "source": [
    "a*b"
   ]
  },
  {
   "cell_type": "code",
   "execution_count": null,
   "metadata": {
    "collapsed": false
   },
   "outputs": [],
   "source": [
    "a*b.reshape((3,1))"
   ]
  },
  {
   "cell_type": "code",
   "execution_count": null,
   "metadata": {
    "collapsed": true
   },
   "outputs": [],
   "source": []
  }
 ],
 "metadata": {
  "kernelspec": {
   "display_name": "Python 3",
   "language": "python",
   "name": "python3"
  },
  "language_info": {
   "codemirror_mode": {
    "name": "ipython",
    "version": 3
   },
   "file_extension": ".py",
   "mimetype": "text/x-python",
   "name": "python",
   "nbconvert_exporter": "python",
   "pygments_lexer": "ipython3",
   "version": "3.5.1"
  }
 },
 "nbformat": 4,
 "nbformat_minor": 0
}
